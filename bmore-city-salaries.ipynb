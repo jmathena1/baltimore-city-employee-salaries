{
 "cells": [
  {
   "cell_type": "code",
   "execution_count": 1,
   "metadata": {},
   "outputs": [],
   "source": [
    "# import necessary libraries\n",
    "from google.cloud import bigquery\n",
    "from google.oauth2 import service_account\n",
    "import pandas as pd\n",
    "import numpy as np\n",
    "\n",
    "# build client to connect to open-baltimore project\n",
    "project_id = \"open-baltimore-data\"\n",
    "client = bigquery.Client(project=project_id)"
   ]
  },
  {
   "cell_type": "code",
   "execution_count": 2,
   "metadata": {},
   "outputs": [],
   "source": [
    "# test query\n",
    "query_job = client.query(\n",
    "    \"\"\"\n",
    "    SELECT *\n",
    "    FROM city_employee_salaries.main\n",
    "    LIMIT 10 \n",
    "    \"\"\")\n",
    "\n",
    "results = query_job.result().to_dataframe()"
   ]
  },
  {
   "cell_type": "code",
   "execution_count": 48,
   "metadata": {},
   "outputs": [],
   "source": [
    "# import employee name info\n",
    "employee_salaries_query = client.query(\n",
    "    \"\"\"\n",
    "    SELECT \n",
    "        info.employeeSlug,\n",
    "        main.objectId,\n",
    "        TRIM(REGEXP_REPLACE(main.agencyName, r'\\(.*?\\)', '')) as cleanAgencyName,\n",
    "        main.agencyId,\n",
    "        main.annualSalary,\n",
    "        main.fiscalYear\n",
    "    FROM city_employee_salaries.main as main\n",
    "    LEFT JOIN city_employee_salaries.employee_info as info\n",
    "    ON main.ObjectId = info.ObjectId\n",
    "    \"\"\"\n",
    ")\n",
    "employee_salaries = employee_salaries_query.result().to_dataframe()"
   ]
  },
  {
   "cell_type": "code",
   "execution_count": 50,
   "metadata": {},
   "outputs": [
    {
     "ename": "SyntaxError",
     "evalue": "':' expected after dictionary key (1129860010.py, line 11)",
     "output_type": "error",
     "traceback": [
      "\u001b[1;36m  Cell \u001b[1;32mIn[50], line 11\u001b[1;36m\u001b[0m\n\u001b[1;33m    \"\"\u001b[0m\n\u001b[1;37m     ^\u001b[0m\n\u001b[1;31mSyntaxError\u001b[0m\u001b[1;31m:\u001b[0m ':' expected after dictionary key\n"
     ]
    }
   ],
   "source": [
    "#create dictionary of agency names and codes\n",
    "agencyDict =  {\n",
    "    \"A01\": \"Mayors Office\",\n",
    "    \"A02\": \"City Council\",\n",
    "    \"A02\": \"Mayors OED\",\n",
    "    \"A04\": \"Parks & Rec\",\n",
    "    \"A05\": \"MONSE\",\n",
    "    \"A06\": \"Housing & Community Dev\",\n",
    "    \"A08\": \"M-R Human Services\",\n",
    "    \"A09\": \"Liquor License Board\",\n",
    "    \"A10\": \"Mayors Office of Children & Families\",\n",
    "    \"A11\": \"Office of the Inspector General\",\n",
    "    \"A12\": \"Finance - Accounting & Payroll\",\n",
    "    \"A14\": \"Finance - Collections\",\n",
    "    \"A15\": \"Comptroller - Real Estate\",\n",
    "    \"A16\": \"Comptrollers Office\",\n",
    "    \"A17\": \"Finance - Purchasing\",\n",
    "    \"A18\": \"Finance - Treasury\",\n",
    "    \"A19\": \"City Planning\",\n",
    "    \"A23\": \"Finance - Admin & Budgets\",\n",
    "    \"A24\": \"Comptroller - Audits\",\n",
    "    \"A26\": \"M-R Labor Commissioner\",\n",
    "    \"A28\": \"Wage Commissioner\"\n",
    "}\n",
    "                                                                     "
   ]
  },
  {
   "cell_type": "code",
   "execution_count": 49,
   "metadata": {},
   "outputs": [],
   "source": [
    "# count number of records per city agency\n",
    "agency_record_count = employee_salaries.groupby([\"agencyId\", \"cleanAgencyName\"], as_index=False).agg(\n",
    "    salarieRecords=pd.NamedAgg(column=\"agencyId\", aggfunc=\"count\")\n",
    "    )   \n",
    "# calculate mean salary, max salary, min salary, growth, tenure, average raise\n",
    "employee_salary_quality = employee_salaries.groupby([\"employeeSlug\", \"agencyId\", \"cleanAgencyName\"], as_index=False).agg(\n",
    "    avgSalary=pd.NamedAgg(column=\"annualSalary\", aggfunc=\"mean\"),\n",
    "    highestSalary=pd.NamedAgg(column=\"annualSalary\", aggfunc=\"max\"),\n",
    "    lowestSalary=pd.NamedAgg(column=\"annualSalary\", aggfunc=\"min\"),\n",
    "    growth=pd.NamedAgg(column=\"annualSalary\", aggfunc=lambda salary: max(salary) - min(salary)),\n",
    "    tenure=pd.NamedAgg(column=\"annualSalary\", aggfunc=\"nunique\"),\n",
    "    avgRaise=pd.NamedAgg(column=\"annualSalary\", aggfunc=lambda salary: (max(salary) - min(salary)) / len(salary))\n",
    "    )\n",
    "agency_salary_quality = employee_salary_quality.groupby([\"agencyId\", \"cleanAgencyName\"], as_index=False).agg(\n",
    "    medSalary=pd.NamedAgg(column=\"avgSalary\", aggfunc=\"mean\"),\n",
    "    medHighestSalary=pd.NamedAgg(column=\"highestSalary\", aggfunc=\"median\"),\n",
    "    medLowestSalary=pd.NamedAgg(column=\"lowestSalary\", aggfunc=\"median\"),\n",
    "    medGrowth=pd.NamedAgg(column=\"growth\", aggfunc=\"median\"),\n",
    "    medTenure=pd.NamedAgg(column=\"tenure\", aggfunc=\"median\"),\n",
    "    medRaise=pd.NamedAgg(column=\"avgRaise\", aggfunc=\"median\")\n",
    "    )"
   ]
  }
 ],
 "metadata": {
  "kernelspec": {
   "display_name": "city-salaries-venv",
   "language": "python",
   "name": "city-salaries-venv"
  },
  "language_info": {
   "codemirror_mode": {
    "name": "ipython",
    "version": 3
   },
   "file_extension": ".py",
   "mimetype": "text/x-python",
   "name": "python",
   "nbconvert_exporter": "python",
   "pygments_lexer": "ipython3",
   "version": "3.11.1"
  },
  "orig_nbformat": 4,
  "vscode": {
   "interpreter": {
    "hash": "bb5929eaff48623518a05480662577cb9ad15280d0429faf3cde633a3d46076c"
   }
  }
 },
 "nbformat": 4,
 "nbformat_minor": 2
}
