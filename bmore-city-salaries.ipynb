{
 "cells": [
  {
   "cell_type": "code",
   "execution_count": 19,
   "metadata": {},
   "outputs": [],
   "source": [
    "# import necessary libraries\n",
    "from google.cloud import bigquery\n",
    "from google.oauth2 import service_account\n",
    "import pandas as pd\n",
    "import numpy as np\n",
    "\n",
    "# build credentials and client to connect to open-baltimore project\n",
    "credentials = service_account.Credentials.from_service_account_file(\n",
    "\"open-baltimore-data-4e3d67e89601.json\")\n",
    "project_id = \"open-baltimore-data\"\n",
    "client = bigquery.Client(credentials=credentials, project=project_id)"
   ]
  },
  {
   "cell_type": "code",
   "execution_count": 20,
   "metadata": {},
   "outputs": [],
   "source": [
    "# test query\n",
    "query_job = client.query(\n",
    "    \"\"\"\n",
    "    SELECT *\n",
    "    FROM city_employee_salaries.main\n",
    "    LIMIT 10 \n",
    "    \"\"\")\n",
    "\n",
    "results = query_job.result().to_dataframe()"
   ]
  },
  {
   "cell_type": "code",
   "execution_count": 21,
   "metadata": {},
   "outputs": [],
   "source": [
    "# import employee name info\n",
    "employee_salaries_query = client.query(\n",
    "    \"\"\"\n",
    "    SELECT \n",
    "        info.employeeSlug,\n",
    "        main.objectId,\n",
    "        main.agencyName,\n",
    "        main.agencyId,\n",
    "        main.annualSalary,\n",
    "        main.fiscalYear\n",
    "    FROM city_employee_salaries.main as main\n",
    "    LEFT JOIN city_employee_salaries.employee_info as info\n",
    "    ON main.ObjectId = info.ObjectId\n",
    "    \"\"\"\n",
    ")\n",
    "employee_salaries = employee_salaries_query.result().to_dataframe()"
   ]
  },
  {
   "cell_type": "code",
   "execution_count": 25,
   "metadata": {},
   "outputs": [],
   "source": [
    "# count number of records per city agency\n",
    "agency_record_count = employee_salaries.groupby([\"agencyId\", \"agencyName\"], as_index=False).agg(\n",
    "    salarieRecords=pd.NamedAgg(column=\"agencyId\", aggfunc=\"count\")\n",
    "    )   \n",
    "# calculate mean salary, max salary, min salary, growth, tenure, average raise\n",
    "employee_salary_quality = employee_salaries.groupby([\"employeeSlug\", \"agencyId\", \"agencyName\"], as_index=False).agg(\n",
    "    avgSalary=pd.NamedAgg(column=\"annualSalary\", aggfunc=\"mean\"),\n",
    "    highestSalary=pd.NamedAgg(column=\"annualSalary\", aggfunc=\"max\"),\n",
    "    lowestSalary=pd.NamedAgg(column=\"annualSalary\", aggfunc=\"min\"),\n",
    "    growth=pd.NamedAgg(column=\"annualSalary\", aggfunc=lambda salary: max(salary) - min(salary)),\n",
    "    tenure=pd.NamedAgg(column=\"annualSalary\", aggfunc=\"nunique\"),\n",
    "    avgRaise=pd.NamedAgg(column=\"annualSalary\", aggfunc=lambda salary: (max(salary) - min(salary)) / len(salary))\n",
    "    )\n",
    "agency_salary_quality = employee_salary_quality.groupby([\"agencyId\", \"agencyName\"], as_index=False).agg(\n",
    "    medSalary=pd.NamedAgg(column=\"avgSalary\", aggfunc=\"mean\"),\n",
    "    medHighestSalary=pd.NamedAgg(column=\"highestSalary\", aggfunc=\"median\"),\n",
    "    medLowestSalary=pd.NamedAgg(column=\"lowestSalary\", aggfunc=\"median\"),\n",
    "    medGrowth=pd.NamedAgg(column=\"growth\", aggfunc=\"median\"),\n",
    "    medTenure=pd.NamedAgg(column=\"tenure\", aggfunc=\"median\"),\n",
    "    medRaise=pd.NamedAgg(column=\"avgRaise\", aggfunc=\"median\")\n",
    "    )"
   ]
  }
 ],
 "metadata": {
  "kernelspec": {
   "display_name": "city-salaries-venv",
   "language": "python",
   "name": "python3"
  },
  "language_info": {
   "codemirror_mode": {
    "name": "ipython",
    "version": 3
   },
   "file_extension": ".py",
   "mimetype": "text/x-python",
   "name": "python",
   "nbconvert_exporter": "python",
   "pygments_lexer": "ipython3",
   "version": "3.11.1"
  },
  "orig_nbformat": 4,
  "vscode": {
   "interpreter": {
    "hash": "bb5929eaff48623518a05480662577cb9ad15280d0429faf3cde633a3d46076c"
   }
  }
 },
 "nbformat": 4,
 "nbformat_minor": 2
}
